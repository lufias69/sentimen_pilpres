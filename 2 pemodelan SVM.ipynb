{
 "cells": [
  {
   "cell_type": "code",
   "execution_count": 21,
   "metadata": {},
   "outputs": [],
   "source": [
    "import pandas as pd\n",
    "import joblib"
   ]
  },
  {
   "cell_type": "code",
   "execution_count": 22,
   "metadata": {},
   "outputs": [
    {
     "data": {
      "text/html": [
       "<div>\n",
       "<style scoped>\n",
       "    .dataframe tbody tr th:only-of-type {\n",
       "        vertical-align: middle;\n",
       "    }\n",
       "\n",
       "    .dataframe tbody tr th {\n",
       "        vertical-align: top;\n",
       "    }\n",
       "\n",
       "    .dataframe thead th {\n",
       "        text-align: right;\n",
       "    }\n",
       "</style>\n",
       "<table border=\"1\" class=\"dataframe\">\n",
       "  <thead>\n",
       "    <tr style=\"text-align: right;\">\n",
       "      <th></th>\n",
       "      <th>Unnamed: 0</th>\n",
       "      <th>tweet</th>\n",
       "      <th>label</th>\n",
       "    </tr>\n",
       "  </thead>\n",
       "  <tbody>\n",
       "    <tr>\n",
       "      <th>0</th>\n",
       "      <td>0</td>\n",
       "      <td>buka visi misi begitu pukau sehingga buat pres...</td>\n",
       "      <td>positive</td>\n",
       "    </tr>\n",
       "    <tr>\n",
       "      <th>1</th>\n",
       "      <td>1</td>\n",
       "      <td>lebih baik pakai teknologi lama kaya negara in...</td>\n",
       "      <td>positive</td>\n",
       "    </tr>\n",
       "    <tr>\n",
       "      <th>2</th>\n",
       "      <td>2</td>\n",
       "      <td>kok arguing without crying</td>\n",
       "      <td>positive</td>\n",
       "    </tr>\n",
       "    <tr>\n",
       "      <th>3</th>\n",
       "      <td>3</td>\n",
       "      <td>jalan politik politik satu bukan politik pecah...</td>\n",
       "      <td>positive</td>\n",
       "    </tr>\n",
       "    <tr>\n",
       "      <th>4</th>\n",
       "      <td>4</td>\n",
       "      <td>juga fans lihat tampil serang hahaha</td>\n",
       "      <td>negative</td>\n",
       "    </tr>\n",
       "  </tbody>\n",
       "</table>\n",
       "</div>"
      ],
      "text/plain": [
       "   Unnamed: 0                                              tweet     label\n",
       "0           0  buka visi misi begitu pukau sehingga buat pres...  positive\n",
       "1           1  lebih baik pakai teknologi lama kaya negara in...  positive\n",
       "2           2                         kok arguing without crying  positive\n",
       "3           3  jalan politik politik satu bukan politik pecah...  positive\n",
       "4           4               juga fans lihat tampil serang hahaha  negative"
      ]
     },
     "execution_count": 22,
     "metadata": {},
     "output_type": "execute_result"
    }
   ],
   "source": [
    "df = pd.read_excel(\"data/tweet_bersih_100.xlsx\")\n",
    "twet = df.tweet.tolist()\n",
    "label = df.label.tolist()\n",
    "df.head()"
   ]
  },
  {
   "cell_type": "code",
   "execution_count": 23,
   "metadata": {},
   "outputs": [
    {
     "name": "stdout",
     "output_type": "stream",
     "text": [
      "positive    500\n",
      "negative    500\n",
      "Name: label, dtype: int64\n"
     ]
    },
    {
     "data": {
      "image/png": "[encoded data removed]",
      "text/plain": [
       "<Figure size 432x288 with 1 Axes>"
      ]
     },
     "metadata": {
      "needs_background": "light"
     },
     "output_type": "display_data"
    }
   ],
   "source": [
    "pd.value_counts(df['label']).plot.bar(title='Data Sentimen')\n",
    "print(pd.value_counts(df['label']))"
   ]
  },
  {
   "cell_type": "markdown",
   "metadata": {},
   "source": [
    "# Pembagian data & pemodelan"
   ]
  },
  {
   "cell_type": "code",
   "execution_count": 24,
   "metadata": {},
   "outputs": [],
   "source": [
    "import numpy as np\n",
    "from sklearn.model_selection import KFold\n",
    "from sklearn import svm"
   ]
  },
  {
   "cell_type": "code",
   "execution_count": 25,
   "metadata": {},
   "outputs": [],
   "source": [
    "# clf = svm.SVC(kernel = \"rbf\", C = 1, gamma=1)\n",
    "# clf.fit(X, y)  "
   ]
  },
  {
   "cell_type": "code",
   "execution_count": 26,
   "metadata": {},
   "outputs": [],
   "source": [
    "from sklearn.feature_extraction.text import TfidfVectorizer\n",
    "corpus = twet\n",
    "vectorizer = TfidfVectorizer()\n",
    "save = vectorizer.fit(corpus)\n",
    "joblib.dump(save,\"model/tdidf.w\")\n",
    "X = vectorizer.fit_transform(corpus)"
   ]
  },
  {
   "cell_type": "code",
   "execution_count": 27,
   "metadata": {},
   "outputs": [
    {
     "name": "stdout",
     "output_type": "stream",
     "text": [
      "...................................................................................................100\n",
      "...................................................................................................200\n",
      "...................................................................................................300\n",
      "...................................................................................................400\n"
     ]
    },
    {
     "data": {
      "text/html": [
       "<div>\n",
       "<style scoped>\n",
       "    .dataframe tbody tr th:only-of-type {\n",
       "        vertical-align: middle;\n",
       "    }\n",
       "\n",
       "    .dataframe tbody tr th {\n",
       "        vertical-align: top;\n",
       "    }\n",
       "\n",
       "    .dataframe thead th {\n",
       "        text-align: right;\n",
       "    }\n",
       "</style>\n",
       "<table border=\"1\" class=\"dataframe\">\n",
       "  <thead>\n",
       "    <tr style=\"text-align: right;\">\n",
       "      <th></th>\n",
       "      <th>C</th>\n",
       "      <th>gamma</th>\n",
       "      <th>score</th>\n",
       "    </tr>\n",
       "  </thead>\n",
       "  <tbody>\n",
       "    <tr>\n",
       "      <th>267</th>\n",
       "      <td>1.4</td>\n",
       "      <td>0.8</td>\n",
       "      <td>0.776</td>\n",
       "    </tr>\n",
       "    <tr>\n",
       "      <th>287</th>\n",
       "      <td>1.5</td>\n",
       "      <td>0.8</td>\n",
       "      <td>0.775</td>\n",
       "    </tr>\n",
       "    <tr>\n",
       "      <th>266</th>\n",
       "      <td>1.4</td>\n",
       "      <td>0.7</td>\n",
       "      <td>0.775</td>\n",
       "    </tr>\n",
       "    <tr>\n",
       "      <th>285</th>\n",
       "      <td>1.5</td>\n",
       "      <td>0.6</td>\n",
       "      <td>0.775</td>\n",
       "    </tr>\n",
       "    <tr>\n",
       "      <th>250</th>\n",
       "      <td>1.3</td>\n",
       "      <td>1.1</td>\n",
       "      <td>0.775</td>\n",
       "    </tr>\n",
       "    <tr>\n",
       "      <th>247</th>\n",
       "      <td>1.3</td>\n",
       "      <td>0.8</td>\n",
       "      <td>0.775</td>\n",
       "    </tr>\n",
       "    <tr>\n",
       "      <th>307</th>\n",
       "      <td>1.6</td>\n",
       "      <td>0.8</td>\n",
       "      <td>0.774</td>\n",
       "    </tr>\n",
       "    <tr>\n",
       "      <th>284</th>\n",
       "      <td>1.5</td>\n",
       "      <td>0.5</td>\n",
       "      <td>0.774</td>\n",
       "    </tr>\n",
       "    <tr>\n",
       "      <th>286</th>\n",
       "      <td>1.5</td>\n",
       "      <td>0.7</td>\n",
       "      <td>0.774</td>\n",
       "    </tr>\n",
       "    <tr>\n",
       "      <th>383</th>\n",
       "      <td>2.0</td>\n",
       "      <td>0.4</td>\n",
       "      <td>0.774</td>\n",
       "    </tr>\n",
       "  </tbody>\n",
       "</table>\n",
       "</div>"
      ],
      "text/plain": [
       "       C  gamma  score\n",
       "267  1.4    0.8  0.776\n",
       "287  1.5    0.8  0.775\n",
       "266  1.4    0.7  0.775\n",
       "285  1.5    0.6  0.775\n",
       "250  1.3    1.1  0.775\n",
       "247  1.3    0.8  0.775\n",
       "307  1.6    0.8  0.774\n",
       "284  1.5    0.5  0.774\n",
       "286  1.5    0.7  0.774\n",
       "383  2.0    0.4  0.774"
      ]
     },
     "execution_count": 27,
     "metadata": {},
     "output_type": "execute_result"
    }
   ],
   "source": [
    "k = 10\n",
    "y = np.array(label)\n",
    "kf = KFold(n_splits=k)\n",
    "kf.get_n_splits(X)\n",
    "# print(kf)\n",
    "C_list     = np.arange(0.1, 2+0.1, 0.1)\n",
    "gamma_list = np.arange(0.1, 2+0.1, 0.1)\n",
    "\n",
    "C_list_ = list()\n",
    "gamma_list_ = list()\n",
    "rerata = list()\n",
    "ix=1\n",
    "for C in C_list:\n",
    "    for gamma in gamma_list:\n",
    "        C_list_.append(C)\n",
    "        gamma_list_.append(gamma)\n",
    "        \n",
    "        clf = svm.SVC(kernel = \"rbf\", C = C, gamma=gamma)\n",
    "        sc_10 = list()\n",
    "        for train_index, test_index in kf.split(X):\n",
    "        #     print(\"TRAIN:\", train_index, \"TEST:\", test_index)\n",
    "            X_train, X_test = X[train_index], X[test_index]\n",
    "            y_train, y_test = y[train_index], y[test_index]\n",
    "            clf.fit(X_train, y_train)\n",
    "    #         clf.fit(X, y)\n",
    "            sc = clf.score(X_test, y_test)\n",
    "            sc_10.append(sc)\n",
    "            \n",
    "        if ix%100==0:\n",
    "            print(ix)\n",
    "        else:\n",
    "            print(\".\", end=\"\")\n",
    "        ix+=1\n",
    "            \n",
    "        rerata.append(sum(sc_10)/k)\n",
    "dict_ = {\n",
    "    \"C\":C_list_,\n",
    "    \"gamma\":gamma_list_,\n",
    "    \"score\":rerata\n",
    "}\n",
    "df_hasil = pd.DataFrame.from_dict(dict_)\n",
    "sorted_ = df_hasil.sort_values(\"score\", axis = 0, ascending = False)\n",
    "sorted_.head(10)"
   ]
  },
  {
   "cell_type": "code",
   "execution_count": 32,
   "metadata": {},
   "outputs": [
    {
     "data": {
      "text/plain": [
       "400"
      ]
     },
     "execution_count": 32,
     "metadata": {},
     "output_type": "execute_result"
    }
   ],
   "source": [
    "len(C_list_)"
   ]
  },
  {
   "cell_type": "code",
   "execution_count": 33,
   "metadata": {},
   "outputs": [
    {
     "data": {
      "text/plain": [
       "0.8"
      ]
     },
     "execution_count": 33,
     "metadata": {},
     "output_type": "execute_result"
    }
   ],
   "source": [
    "sorted_.gamma.tolist()[0]"
   ]
  },
  {
   "cell_type": "code",
   "execution_count": 34,
   "metadata": {},
   "outputs": [
    {
     "data": {
      "text/plain": [
       "['model/svm.m']"
      ]
     },
     "execution_count": 34,
     "metadata": {},
     "output_type": "execute_result"
    }
   ],
   "source": [
    "clf = clf = svm.SVC(kernel = \"rbf\", C = sorted_.C.tolist()[0], gamma=sorted_.gamma.tolist()[0])\n",
    "save = clf.fit(X_train, y_train)\n",
    "joblib.dump(save,\"model/svm.m\")"
   ]
  },
  {
   "cell_type": "code",
   "execution_count": 35,
   "metadata": {},
   "outputs": [
    {
     "data": {
      "text/plain": [
       "0.972"
      ]
     },
     "execution_count": 35,
     "metadata": {},
     "output_type": "execute_result"
    }
   ],
   "source": [
    "save.score(X, y) #0.9761668321747765"
   ]
  },
  {
   "cell_type": "code",
   "execution_count": 19,
   "metadata": {},
   "outputs": [],
   "source": [
    "x = save.predict(X)"
   ]
  },
  {
   "cell_type": "code",
   "execution_count": 20,
   "metadata": {},
   "outputs": [
    {
     "name": "stdout",
     "output_type": "stream",
     "text": [
      "627\n",
      "positive\n",
      "label asli negative\n",
      "kalau mandat akan bersih kuat lembaga perintah akan hilang korupsi indonesia\n",
      "\n",
      "642\n",
      "positive\n",
      "label asli negative\n",
      "perintah dil digital layan sangat perlu\n",
      "\n",
      "909\n",
      "negative\n",
      "label asli positive\n",
      "lawan tak daya lawan mantul euy\n",
      "\n",
      "910\n",
      "positive\n",
      "label asli negative\n",
      "presiden ajak keluarga makan siang rumah makan bilang jalan sabang jakarta pusat sayang dua putra hadir\n",
      "\n",
      "914\n",
      "positive\n",
      "label asli negative\n",
      "cek fakta cek fakta sebut dana tahan ri kecil singapura 30 gdp https t co hv6u1urlj5\n",
      "\n",
      "919\n",
      "positive\n",
      "label asli negative\n",
      "beda negara debat maaf keras tengah banyumas\n",
      "\n",
      "932\n",
      "positive\n",
      "label asli negative\n",
      "malam minggu duduk depan layar tv nonton debat empat capres semangat pak 01dilanjutkan\n",
      "\n",
      "934\n",
      "positive\n",
      "label asli negative\n",
      "lah situ nyinyir apa gak balik aki aki apa nenek peot capresnya jadul\n",
      "\n",
      "938\n",
      "negative\n",
      "label asli positive\n",
      "tim ses 02 yg lapar haus kelak kau jabat ingat jd presoden bkn krn kau bkn krn kalian\n",
      "\n",
      "940\n",
      "negative\n",
      "label asli positive\n",
      "rip warkop tertawa tertawa larang layakdapatjempol https t co bd2es9jxwl\n",
      "\n",
      "945\n",
      "positive\n",
      "label asli negative\n",
      "cakep jendral makin kita hidup rukun tidak ajar benci mistericapjempol\n",
      "\n",
      "947\n",
      "positive\n",
      "label asli negative\n",
      "tidak jajah bangsa lai rugi banyak pak salah orang amerika sedikit bicara banyak kerja\n",
      "\n",
      "954\n",
      "positive\n",
      "label asli negative\n",
      "nama ngomong ngasal aja penting gaya dulu wkwkqk kasi babak bur hajar jendral\n",
      "\n",
      "961\n",
      "positive\n",
      "label asli negative\n",
      "turut percuma punya banyak kartu lihat modern debatpilpres 2019 pilpres 2019 pemilu 2019\n",
      "\n",
      "971\n",
      "negative\n",
      "label asli positive\n",
      "01 rubah gaya debat dlu suka mnyerang sekarang gk krn nyerang personal malah turun elektabilitas\n",
      "\n",
      "973\n",
      "negative\n",
      "label asli positive\n",
      "aura sumpah prajurit keluar bikin tukang dusta ciut nyali prabowomenangdebat\n",
      "\n",
      "976\n",
      "positive\n",
      "label asli negative\n",
      "komitmen nkri pancasila tak perlu ragu propaganda ubah sistem demokrasi dg sistem khilafah\n",
      "\n",
      "982\n",
      "positive\n",
      "label asli negative\n",
      "rasa posisi selalu posisi aman buat indonesia tak hormat asing\n",
      "\n",
      "984\n",
      "positive\n",
      "label asli negative\n",
      "02 pak yg hormat lebih baik daftar jadi tni biar paham percaya dgn kebranian\n",
      "\n",
      "989\n",
      "positive\n",
      "label asli negative\n",
      "set up nya padahal dah kuat bat sayang punchline nya beri terlalu banyak damage\n",
      "\n",
      "991\n",
      "positive\n",
      "label asli negative\n",
      "mo ngecapruk apa bodo sudah jadi kadang ucap ny sua nyata\n",
      "\n",
      "993\n",
      "negative\n",
      "label asli positive\n",
      "tahan aman lemah uni bukan salah pak lantas salah siapa\n",
      "\n",
      "999\n",
      "positive\n",
      "label asli negative\n",
      "sumber foto jenderal goblok udah edit eh foto orang kamboja keren cici 2 kamboja dukung\n",
      "\n",
      "1000\n",
      "negative\n",
      "label asli positive\n",
      "pak mau indonesia hormat tp tahu cara capa tahu cara pidato\n",
      "\n"
     ]
    }
   ],
   "source": [
    "ixx = 0\n",
    "labelA = list()\n",
    "labelP= list()\n",
    "\n",
    "for i, j in zip(label, x):\n",
    "    if i !=j:\n",
    "        print(ixx)\n",
    "        print(j)\n",
    "        print(\"label asli\",i)\n",
    "        print(twet[ixx])\n",
    "        print()\n",
    "    ixx+=1"
   ]
  },
  {
   "cell_type": "code",
   "execution_count": null,
   "metadata": {},
   "outputs": [],
   "source": []
  }
 ],
 "metadata": {
  "kernelspec": {
   "display_name": "Python 3",
   "language": "python",
   "name": "python3"
  },
  "language_info": {
   "codemirror_mode": {
    "name": "ipython",
    "version": 3
   },
   "file_extension": ".py",
   "mimetype": "text/x-python",
   "name": "python",
   "nbconvert_exporter": "python",
   "pygments_lexer": "ipython3",
   "version": "3.7.3"
  }
 },
 "nbformat": 4,
 "nbformat_minor": 2
}
